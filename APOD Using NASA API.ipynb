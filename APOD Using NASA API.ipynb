{
 "cells": [
  {
   "cell_type": "markdown",
   "metadata": {},
   "source": [
    "# Get the Astronomy Picture of the Day\n",
    "## Using NASA's API\n",
    "\n",
    "https://api.nasa.gov/"
   ]
  },
  {
   "cell_type": "code",
   "execution_count": 3,
   "metadata": {},
   "outputs": [],
   "source": [
    "import time\n",
    "import requests\n",
    "import json\n",
    "from datetime import date\n",
    "from random import randrange"
   ]
  },
  {
   "cell_type": "code",
   "execution_count": 4,
   "metadata": {},
   "outputs": [],
   "source": [
    "def construct_url(base, params):\n",
    "    \"\"\"Construct an APOD API URL\"\"\"\n",
    "    url = base\n",
    "    for i, (param, val) in enumerate(params):\n",
    "        if i == 0:\n",
    "            url += \"?{0}={1}\".format(param, val)\n",
    "        else:\n",
    "            url += \"&{0}={1}\".format(param, val)\n",
    "    return url"
   ]
  },
  {
   "cell_type": "code",
   "execution_count": 5,
   "metadata": {},
   "outputs": [],
   "source": [
    "def get_random_apod():\n",
    "    sleep_t = 10\n",
    "    this_year = date.today().year\n",
    "    base_url = \"https://api.nasa.gov/planetary/apod\"\n",
    "\n",
    "    while True:\n",
    "        url_params = [(\"api_key\", \"DEMO_KEY\"), (\"hd\", True)]\n",
    "        \n",
    "        year = randrange(1997, this_year + 1)\n",
    "        month = randrange(1, 13)\n",
    "        day = randrange(1, 31)\n",
    "\n",
    "        date_param = (\"date\", \"{0}-{1:02d}-{2:02d}\".format(year, month, day))\n",
    "\n",
    "        url_params.append(date_param)\n",
    "        apod_url = construct_url(base_url, url_params)\n",
    "\n",
    "        try:\n",
    "            print(apod_url)\n",
    "            response = requests.get(apod_url, timeout=30)\n",
    "            \n",
    "            if response.status_code == 200:\n",
    "                apod = response.json\n",
    "                print(apod)\n",
    "                print(f\"\\nPausing for {sleep_t} seconds before \"\n",
    "                      \"next image.\\n\")\n",
    "                time.sleep(sleep_t)\n",
    "            elif response.status_code == 429:\n",
    "                print(f\"Error retrieving image from API, got {response.status_code}\")\n",
    "                print(f\"Sleeping {sleep_t} seconds.\")\n",
    "                time.sleep(sleep_t)\n",
    "        except KeyError:\n",
    "            print(f\"No larger-format image available, sleeping {sleep_t} seconds.\")\n",
    "            time.sleep(sleep_t)\n",
    "        except (requests.exceptions.ConnectionError,\n",
    "                requests.exceptions.ReadTimeout):\n",
    "            print(f\"Connection error, sleeping {sleep_t} seconds.\")\n",
    "            time.sleep(sleep_t)"
   ]
  },
  {
   "cell_type": "code",
   "execution_count": null,
   "metadata": {},
   "outputs": [
    {
     "name": "stdout",
     "output_type": "stream",
     "text": [
      "https://api.nasa.gov/planetary/apod?api_key=DEMO_KEY&hd=True&date=2000-04-19\n",
      "<bound method Response.json of <Response [200]>>\n",
      "\n",
      "Pausing for 10 seconds before next image.\n",
      "\n"
     ]
    }
   ],
   "source": [
    "get_random_apod()"
   ]
  },
  {
   "cell_type": "code",
   "execution_count": null,
   "metadata": {},
   "outputs": [],
   "source": []
  }
 ],
 "metadata": {
  "kernelspec": {
   "display_name": "Python 3",
   "language": "python",
   "name": "python3"
  },
  "language_info": {
   "codemirror_mode": {
    "name": "ipython",
    "version": 3
   },
   "file_extension": ".py",
   "mimetype": "text/x-python",
   "name": "python",
   "nbconvert_exporter": "python",
   "pygments_lexer": "ipython3",
   "version": "3.8.5"
  }
 },
 "nbformat": 4,
 "nbformat_minor": 2
}
